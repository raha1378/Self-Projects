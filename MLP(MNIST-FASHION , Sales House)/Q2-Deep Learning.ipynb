{
 "cells": [
  {
   "cell_type": "markdown",
   "id": "6e1bc398",
   "metadata": {},
   "source": [
    "                                        Raha BadriAzarin\n",
    "                                            Question 2\n",
    "                                Deep Learning - Feedfrw network"
   ]
  },
  {
   "cell_type": "code",
   "execution_count": 1,
   "id": "a2f5dccd",
   "metadata": {},
   "outputs": [],
   "source": [
    "#Required Libraries\n",
    "import pandas as pd\n",
    "import numpy as np\n",
    "import matplotlib.pyplot as plt\n",
    "import tensorflow as tf\n",
    "from tensorflow import keras\n",
    "from keras.utils import np_utils\n",
    "from keras.models import Sequential\n",
    "from keras.layers.core import Dense\n",
    "from sklearn.metrics import plot_confusion_matrix, ConfusionMatrixDisplay, confusion_matrix"
   ]
  },
  {
   "cell_type": "code",
   "execution_count": 2,
   "id": "988a0217",
   "metadata": {},
   "outputs": [],
   "source": [
    "#Laad Data\n",
    "fashion_mnist = keras.datasets.fashion_mnist\n",
    "(x_train, y_train), (x_test, y_test) = fashion_mnist.load_data()"
   ]
  },
  {
   "cell_type": "code",
   "execution_count": 3,
   "id": "914d6441",
   "metadata": {},
   "outputs": [
    {
     "name": "stdout",
     "output_type": "stream",
     "text": [
      "Training Data shape: (60000, 28, 28) (60000,)\n",
      "Test Data shape: (10000, 28, 28) (10000,)\n"
     ]
    }
   ],
   "source": [
    "#pre-process\n",
    "print('Training Data shape:',x_train.shape, y_train.shape)\n",
    "print('Test Data shape:',x_test.shape, y_test.shape)"
   ]
  },
  {
   "cell_type": "code",
   "execution_count": 4,
   "id": "8920263b",
   "metadata": {},
   "outputs": [
    {
     "name": "stdout",
     "output_type": "stream",
     "text": [
      "total number of outputs: 10\n",
      "Output Classes: ['T-shirt/top', 'Trouser', 'Pullover', 'Dress', 'Coat', 'Sandal', 'Shirt', 'Sneaker', 'Bag', 'Ankle boot']\n"
     ]
    }
   ],
   "source": [
    "#Find the uniqe clothes from the train labels\n",
    "label_names = {0:\"T-shirt/top\",1:\"Trouser\",2:\"Pullover\",3:\"Dress\",4:\"Coat\",5:\"Sandal\",6:\"Shirt\",7:\"Sneaker\",8:\"Bag\",9:\"Ankle boot\"}\n",
    "classes=np.unique(y_train)\n",
    "nclasses=len(classes)\n",
    "print('total number of outputs:', nclasses)\n",
    "outputs=[]\n",
    "for i in range (0,nclasses):\n",
    "    out=label_names[i]\n",
    "    outputs.append(out)\n",
    "print('Output Classes:', outputs)\n"
   ]
  },
  {
   "cell_type": "code",
   "execution_count": 5,
   "id": "c166c2c5",
   "metadata": {},
   "outputs": [
    {
     "data": {
      "image/png": "[encoded data removed]",
      "text/plain": [
       "<Figure size 1440x720 with 10 Axes>"
      ]
     },
     "metadata": {
      "needs_background": "light"
     },
     "output_type": "display_data"
    }
   ],
   "source": [
    "plt.figure(figsize=(20,10))\n",
    "\n",
    "#display the 10 image in training data\n",
    "for i in range (1,11):\n",
    "    plt.subplot(1,11,i)\n",
    "    plt.imshow(x_train[i-1,:,:], cmap='gray_r')\n",
    "    plt.title(label_names[y_train[i-1]])\n",
    "\n"
   ]
  },
  {
   "cell_type": "code",
   "execution_count": 6,
   "id": "1c4cab7a",
   "metadata": {},
   "outputs": [],
   "source": [
    "#flattern the data\n",
    "#change from matrixs to array of dimension 28*28 to array of dimension 784\n",
    "x_train=x_train.reshape((len(x_train)), np.prod(x_train.shape[1:]))  #(60000,784)\n",
    "x_test=x_test.reshape((len(x_test)), np.prod(x_test.shape[1:]))\n",
    "\n",
    "#change to float datatype\n",
    "x_train=x_train.astype('float32')\n",
    "x_test=x_test.astype('float32')\n",
    "\n",
    "#normalization from [0:255] to [0:1] // scale the data to lie between 0 to 1\n",
    "x_train /= 255\n",
    "x_test /= 255\n",
    "\n",
    "#convert labels to one_hot vectors\n",
    "y_train=np_utils.to_categorical(y_train) \n",
    "y_test=np_utils.to_categorical(y_test) \n"
   ]
  },
  {
   "cell_type": "code",
   "execution_count": 7,
   "id": "3eab5f9a",
   "metadata": {},
   "outputs": [
    {
     "name": "stdout",
     "output_type": "stream",
     "text": [
      "Model: \"sequential\"\n",
      "_________________________________________________________________\n",
      "Layer (type)                 Output Shape              Param #   \n",
      "=================================================================\n",
      "dense (Dense)                (None, 512)               401920    \n",
      "_________________________________________________________________\n",
      "dense_1 (Dense)              (None, 512)               262656    \n",
      "_________________________________________________________________\n",
      "dense_2 (Dense)              (None, 10)                5130      \n",
      "=================================================================\n",
      "Total params: 669,706\n",
      "Trainable params: 669,706\n",
      "Non-trainable params: 0\n",
      "_________________________________________________________________\n"
     ]
    }
   ],
   "source": [
    "#create model\n",
    "model=Sequential()\n",
    "model.add(Dense(512, activation='relu', input_shape=(784,))) #Hidden Layer 1\n",
    "model.add(Dense(512, activation='relu'))\n",
    "model.add(Dense(10, activation='softmax'))\n",
    "model.summary()\n",
    "\n",
    "#configure the network\n",
    "model.compile(loss='categorical_crossentropy', optimizer='Adam',metrics=['accuracy'])"
   ]
  },
  {
   "cell_type": "code",
   "execution_count": 19,
   "id": "d183f58d",
   "metadata": {},
   "outputs": [
    {
     "name": "stdout",
     "output_type": "stream",
     "text": [
      "Epoch 1/10\n",
      "165/165 [==============================] - 2s 10ms/step - loss: 0.0497 - accuracy: 0.9819 - val_loss: 0.4883 - val_accuracy: 0.9022\n",
      "Epoch 2/10\n",
      "165/165 [==============================] - 2s 10ms/step - loss: 0.0399 - accuracy: 0.9860 - val_loss: 0.4951 - val_accuracy: 0.9016\n",
      "Epoch 3/10\n",
      "165/165 [==============================] - 2s 11ms/step - loss: 0.0373 - accuracy: 0.9872 - val_loss: 0.5188 - val_accuracy: 0.9012\n",
      "Epoch 4/10\n",
      "165/165 [==============================] - 2s 10ms/step - loss: 0.0358 - accuracy: 0.9877 - val_loss: 0.5485 - val_accuracy: 0.8987\n",
      "Epoch 5/10\n",
      "165/165 [==============================] - 2s 11ms/step - loss: 0.0371 - accuracy: 0.9869 - val_loss: 0.5760 - val_accuracy: 0.8975\n",
      "Epoch 6/10\n",
      "165/165 [==============================] - 2s 11ms/step - loss: 0.0398 - accuracy: 0.9856 - val_loss: 0.5656 - val_accuracy: 0.9018\n",
      "Epoch 7/10\n",
      "165/165 [==============================] - 2s 10ms/step - loss: 0.0321 - accuracy: 0.9895 - val_loss: 0.5870 - val_accuracy: 0.8993\n",
      "Epoch 8/10\n",
      "165/165 [==============================] - 2s 10ms/step - loss: 0.0351 - accuracy: 0.9874 - val_loss: 0.5698 - val_accuracy: 0.8999\n",
      "Epoch 9/10\n",
      "165/165 [==============================] - 2s 10ms/step - loss: 0.0318 - accuracy: 0.9886 - val_loss: 0.5776 - val_accuracy: 0.9011\n",
      "Epoch 10/10\n",
      "165/165 [==============================] - 2s 10ms/step - loss: 0.0309 - accuracy: 0.9893 - val_loss: 0.6312 - val_accuracy: 0.8976\n"
     ]
    },
    {
     "data": {
      "image/png": "[encoded data removed]",
      "text/plain": [
       "<Figure size 432x288 with 1 Axes>"
      ]
     },
     "metadata": {
      "needs_background": "light"
     },
     "output_type": "display_data"
    },
    {
     "data": {
      "image/png": "[encoded data removed]",
      "text/plain": [
       "<Figure size 432x288 with 1 Axes>"
      ]
     },
     "metadata": {
      "needs_background": "light"
     },
     "output_type": "display_data"
    }
   ],
   "source": [
    "#tarining model fitting\n",
    "myhistory=model.fit(x_train, y_train, epochs=10, batch_size=256 , validation_split=0.3)\n",
    "\n",
    "#plotting metrics\n",
    "#plot the accuracy curve\n",
    "fig=plt.figure()\n",
    "plt.plot(myhistory.history['accuracy'],'r')\n",
    "plt.plot(myhistory.history['val_accuracy'],'b')\n",
    "plt.title('model accuracy')\n",
    "plt.ylabel('accuracy')\n",
    "plt.xlabel('epoch')\n",
    "plt.legend(['train','validation'], loc='lower right')\n",
    "plt.grid()\n",
    "\n",
    "#plot the loss curves\n",
    "fig=plt.figure()\n",
    "plt.plot(myhistory.history['loss'],'r')\n",
    "plt.plot(myhistory.history['val_loss'],'b')\n",
    "plt.title('model loss')\n",
    "plt.ylabel('loss')\n",
    "plt.xlabel('epoch')\n",
    "plt.legend(['train','validation'], loc='upper right')\n",
    "plt.grid()\n",
    "\n"
   ]
  },
  {
   "cell_type": "code",
   "execution_count": 20,
   "id": "4cde3f26",
   "metadata": {},
   "outputs": [
    {
     "name": "stdout",
     "output_type": "stream",
     "text": [
      "313/313 [==============================] - 1s 3ms/step - loss: 0.7290 - accuracy: 0.8907\n",
      "test loss= 0.7290086150169373\n",
      "test accuracy= 0.8906999826431274\n"
     ]
    }
   ],
   "source": [
    "#evaluation\n",
    "#prediction labels\n",
    "Y_pred=model.predict(x_test)\n",
    "y_pred= np.argmax(Y_pred, axis=1)\n",
    "\n",
    "#evaluation the trained model\n",
    "[test_loss, test_acc]= model.evaluate(x_test, y_test)\n",
    "print('test loss=',test_loss)\n",
    "print('test accuracy=', test_acc)\n"
   ]
  },
  {
   "cell_type": "code",
   "execution_count": null,
   "id": "a09763a7",
   "metadata": {},
   "outputs": [],
   "source": [
    "#Confusion matrix\n",
    "cm=confusion_matrix(y_pred,y_test)\n",
    "\n",
    "#Plot\n",
    "disp=ConfusionMatrixDisplay(confusion_matrix=cm,display_labels=label_names)\n",
    "fig, ax = plt.subplots(figsize=(10,10))\n",
    "disp.plot(ax=ax);\n"
   ]
  },
  {
   "cell_type": "code",
   "execution_count": null,
   "id": "044edad9",
   "metadata": {},
   "outputs": [],
   "source": []
  }
 ],
 "metadata": {
  "kernelspec": {
   "display_name": "Python 3",
   "language": "python",
   "name": "python3"
  },
  "language_info": {
   "codemirror_mode": {
    "name": "ipython",
    "version": 3
   },
   "file_extension": ".py",
   "mimetype": "text/x-python",
   "name": "python",
   "nbconvert_exporter": "python",
   "pygments_lexer": "ipython3",
   "version": "3.8.8"
  }
 },
 "nbformat": 4,
 "nbformat_minor": 5
}
